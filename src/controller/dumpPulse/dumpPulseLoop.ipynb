{
 "cells": [
  {
   "cell_type": "code",
   "execution_count": 1,
   "metadata": {},
   "outputs": [
    {
     "name": "stdout",
     "output_type": "stream",
     "text": [
      "initializing ocelot...\n",
      "\n",
      "WARNING: esther_execute could not be imported. This is most probably due to Esther not being installed or not found. Expect RunTimeErrors when attempting to run the EstherPhotonMatterInteractor.backengine().\n"
     ]
    }
   ],
   "source": [
    "from SimEx import *\n",
    "import matplotlib.pyplot as plt\n",
    "import sys\n",
    "import numpy as np\n",
    "import glob"
   ]
  },
  {
   "cell_type": "code",
   "execution_count": 2,
   "metadata": {},
   "outputs": [],
   "source": [
    "file_list = glob.glob('/gpfs/exfel/data/user/juncheng/hydratedProject/data/simulation/prop/prop_out_*.h5')\n",
    "file_list.sort()"
   ]
  },
  {
   "cell_type": "code",
   "execution_count": null,
   "metadata": {},
   "outputs": [],
   "source": [
    "for i, file in enumerate(file_list):\n",
    "    photon_analysis = XFELPhotonAnalysis(input_path=file)\n",
    "    xs_mf, int0_mean = photon_analysis.dumpTotalPower()\n",
    "    \n",
    "    plt.figure()\n",
    "    plt.title(file)\n",
    "    plt.plot(xs_mf,int0_mean)\n",
    "    \n",
    "    X = np.vstack((xs_mf,int0_mean))\n",
    "    \n",
    "    fname = '9fs_'+str(i)+'.txt'\n",
    "    np.savetxt(fname, X.T, header='x = Time (fs); y = Power (W)')"
   ]
  }
 ],
 "metadata": {
  "kernelspec": {
   "display_name": "Python 3",
   "language": "python",
   "name": "python3"
  },
  "language_info": {
   "codemirror_mode": {
    "name": "ipython",
    "version": 3
   },
   "file_extension": ".py",
   "mimetype": "text/x-python",
   "name": "python",
   "nbconvert_exporter": "python",
   "pygments_lexer": "ipython3",
   "version": "3.6.7"
  }
 },
 "nbformat": 4,
 "nbformat_minor": 2
}
