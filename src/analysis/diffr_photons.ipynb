{
 "cells": [
  {
   "cell_type": "code",
   "execution_count": 1,
   "metadata": {},
   "outputs": [],
   "source": [
    "%matplotlib inline"
   ]
  },
  {
   "cell_type": "code",
   "execution_count": 2,
   "metadata": {},
   "outputs": [],
   "source": [
    "import numpy, h5py, os\n",
    "import matplotlib\n",
    "from matplotlib import pyplot\n",
    "from matplotlib.pyplot import imshow\n",
    "from matplotlib.colors import LogNorm"
   ]
  },
  {
   "cell_type": "code",
   "execution_count": 3,
   "metadata": {},
   "outputs": [],
   "source": [
    "# discrete colormap\n",
    "# cmap = pyplot.get_cmap(\"RdYlGn_r\",3)\n",
    "cmap = pyplot.get_cmap(\"jet\")"
   ]
  },
  {
   "cell_type": "code",
   "execution_count": 4,
   "metadata": {},
   "outputs": [],
   "source": [
    "data_root_path = '/gpfs/exfel/data/user/grotec/2NIP_S2E/5keV_3fs_2NIP/diffr/diffr_Compton/'\n",
    "file = os.path.join(data_root_path, 'diffr_out_%07d.h5' % (331))\n",
    "\n",
    "def getMaskedData(data_root_path, pattern_indices):\n",
    "    data = [None]*len(pattern_indices)\n",
    "    for i,pattern_index in enumerate(pattern_indices):\n",
    "        with h5py.File(os.path.join(data_root_path, 'diffr_out_%07d.h5' % (pattern_index)) ,\"r\") as h5:\n",
    "    #         d = h5['data/diffr'].value\n",
    "            d = h5['data/data'].value\n",
    "\n",
    "        # mask beamstop\n",
    "        size = d.shape[0]\n",
    "        center = size//2\n",
    "        beamstop_width = 10\n",
    "        mask = numpy.ones_like(d)\n",
    "        mask[center-beamstop_width//2 : center+beamstop_width//2, center-beamstop_width//2 : center+beamstop_width//2] = 0.0\n",
    "\n",
    "        data[i] = d * mask"
   ]
  },
  {
   "cell_type": "code",
   "execution_count": 5,
   "metadata": {
    "scrolled": false
   },
   "outputs": [
    {
     "name": "stdout",
     "output_type": "stream",
     "text": [
      "[ 0.9789963   0.10894187  0.16324827 -0.05520881]\n",
      "[0.99973977 0.01232323 0.0071623  0.01780972]\n"
     ]
    }
   ],
   "source": [
    "pattern_indices = [2,10,331,12121]\n",
    "def print_name(name, obj):\n",
    "    print (name)\n",
    "\n",
    "def print_attrs(name, obj):\n",
    "    print (name)\n",
    "    for key, val in obj.attrs.iteritems():\n",
    "        print (\"    %s: %s\" % (key, val))\n",
    "def print_data(name, obj):\n",
    "    print (name)\n",
    "    is_dataset = isinstance(obj, h5py.Dataset)\n",
    "    if (is_dataset):\n",
    "        if (len(obj.shape) == 0):\n",
    "            print (\"    %s\" % (obj[()]))\n",
    "        elif (len(obj) < 2):\n",
    "            print (\"    %s\" % (obj[0]))\n",
    "        else:\n",
    "            print (\"    shape: %s\" % (str(obj.shape)))\n",
    "def checkOrientation(data_root_path, pattern_index=0):\n",
    "    with h5py.File(os.path.join(data_root_path, 'diffr_out_%07d.h5' % (pattern_index)) ,\"r\") as f:\n",
    "        print (f['data/angle'][...])\n",
    "    \n",
    "with h5py.File(file,'r') as f:\n",
    "#     f['params'].visititems(print_name)\n",
    "#     f['params'].visititems(print_data)\n",
    "#     f.visititems(print_data)\n",
    "    print (f['data/angle'][...])\n",
    "checkOrientation(data_root_path,1)"
   ]
  },
  {
   "cell_type": "code",
   "execution_count": 6,
   "metadata": {},
   "outputs": [
    {
     "ename": "OSError",
     "evalue": "Unable to open file (unable to open file: name = '/gpfs/exfel/data/user/grotec/2NIP_S2E/5keV_3fs_2NIP/diffr/diffr_Compton/diffr_Compton/diffr_out_0000002.h5', errno = 2, error message = 'No such file or directory', flags = 0, o_flags = 0)",
     "output_type": "error",
     "traceback": [
      "\u001b[0;31m---------------------------------------------------------------------------\u001b[0m",
      "\u001b[0;31mOSError\u001b[0m                                   Traceback (most recent call last)",
      "\u001b[0;32m<ipython-input-6-f9d437b3bc43>\u001b[0m in \u001b[0;36m<module>\u001b[0;34m\u001b[0m\n\u001b[1;32m      1\u001b[0m \u001b[0;32mfor\u001b[0m \u001b[0mi\u001b[0m\u001b[0;34m,\u001b[0m\u001b[0mpattern_index\u001b[0m \u001b[0;32min\u001b[0m \u001b[0menumerate\u001b[0m\u001b[0;34m(\u001b[0m\u001b[0mpattern_indices\u001b[0m\u001b[0;34m)\u001b[0m\u001b[0;34m:\u001b[0m\u001b[0;34m\u001b[0m\u001b[0;34m\u001b[0m\u001b[0m\n\u001b[0;32m----> 2\u001b[0;31m     \u001b[0;32mwith\u001b[0m \u001b[0mh5py\u001b[0m\u001b[0;34m.\u001b[0m\u001b[0mFile\u001b[0m\u001b[0;34m(\u001b[0m\u001b[0mos\u001b[0m\u001b[0;34m.\u001b[0m\u001b[0mpath\u001b[0m\u001b[0;34m.\u001b[0m\u001b[0mjoin\u001b[0m\u001b[0;34m(\u001b[0m\u001b[0mdata_root_path\u001b[0m\u001b[0;34m,\u001b[0m \u001b[0;34m'diffr_Compton/diffr_out_%07d.h5'\u001b[0m \u001b[0;34m%\u001b[0m \u001b[0;34m(\u001b[0m\u001b[0mpattern_index\u001b[0m\u001b[0;34m)\u001b[0m\u001b[0;34m)\u001b[0m \u001b[0;34m,\u001b[0m\u001b[0;34m\"r\"\u001b[0m\u001b[0;34m)\u001b[0m \u001b[0;32mas\u001b[0m \u001b[0mh5\u001b[0m\u001b[0;34m:\u001b[0m\u001b[0;34m\u001b[0m\u001b[0;34m\u001b[0m\u001b[0m\n\u001b[0m\u001b[1;32m      3\u001b[0m         \u001b[0md\u001b[0m \u001b[0;34m=\u001b[0m \u001b[0mh5\u001b[0m\u001b[0;34m[\u001b[0m\u001b[0;34m'data/diffr'\u001b[0m\u001b[0;34m]\u001b[0m\u001b[0;34m.\u001b[0m\u001b[0mvalue\u001b[0m\u001b[0;34m\u001b[0m\u001b[0;34m\u001b[0m\u001b[0m\n\u001b[1;32m      4\u001b[0m         \u001b[0md\u001b[0m \u001b[0;34m=\u001b[0m \u001b[0mh5\u001b[0m\u001b[0;34m[\u001b[0m\u001b[0;34m'data/data'\u001b[0m\u001b[0;34m]\u001b[0m\u001b[0;34m.\u001b[0m\u001b[0mvalue\u001b[0m\u001b[0;34m\u001b[0m\u001b[0;34m\u001b[0m\u001b[0m\n\u001b[1;32m      5\u001b[0m \u001b[0;34m\u001b[0m\u001b[0m\n",
      "\u001b[0;32m~/.conda/envs/simex/lib/python3.6/site-packages/h5py/_hl/files.py\u001b[0m in \u001b[0;36m__init__\u001b[0;34m(self, name, mode, driver, libver, userblock_size, swmr, rdcc_nslots, rdcc_nbytes, rdcc_w0, track_order, **kwds)\u001b[0m\n\u001b[1;32m    406\u001b[0m                 fid = make_fid(name, mode, userblock_size,\n\u001b[1;32m    407\u001b[0m                                \u001b[0mfapl\u001b[0m\u001b[0;34m,\u001b[0m \u001b[0mfcpl\u001b[0m\u001b[0;34m=\u001b[0m\u001b[0mmake_fcpl\u001b[0m\u001b[0;34m(\u001b[0m\u001b[0mtrack_order\u001b[0m\u001b[0;34m=\u001b[0m\u001b[0mtrack_order\u001b[0m\u001b[0;34m)\u001b[0m\u001b[0;34m,\u001b[0m\u001b[0;34m\u001b[0m\u001b[0;34m\u001b[0m\u001b[0m\n\u001b[0;32m--> 408\u001b[0;31m                                swmr=swmr)\n\u001b[0m\u001b[1;32m    409\u001b[0m \u001b[0;34m\u001b[0m\u001b[0m\n\u001b[1;32m    410\u001b[0m             \u001b[0;32mif\u001b[0m \u001b[0misinstance\u001b[0m\u001b[0;34m(\u001b[0m\u001b[0mlibver\u001b[0m\u001b[0;34m,\u001b[0m \u001b[0mtuple\u001b[0m\u001b[0;34m)\u001b[0m\u001b[0;34m:\u001b[0m\u001b[0;34m\u001b[0m\u001b[0;34m\u001b[0m\u001b[0m\n",
      "\u001b[0;32m~/.conda/envs/simex/lib/python3.6/site-packages/h5py/_hl/files.py\u001b[0m in \u001b[0;36mmake_fid\u001b[0;34m(name, mode, userblock_size, fapl, fcpl, swmr)\u001b[0m\n\u001b[1;32m    171\u001b[0m         \u001b[0;32mif\u001b[0m \u001b[0mswmr\u001b[0m \u001b[0;32mand\u001b[0m \u001b[0mswmr_support\u001b[0m\u001b[0;34m:\u001b[0m\u001b[0;34m\u001b[0m\u001b[0;34m\u001b[0m\u001b[0m\n\u001b[1;32m    172\u001b[0m             \u001b[0mflags\u001b[0m \u001b[0;34m|=\u001b[0m \u001b[0mh5f\u001b[0m\u001b[0;34m.\u001b[0m\u001b[0mACC_SWMR_READ\u001b[0m\u001b[0;34m\u001b[0m\u001b[0;34m\u001b[0m\u001b[0m\n\u001b[0;32m--> 173\u001b[0;31m         \u001b[0mfid\u001b[0m \u001b[0;34m=\u001b[0m \u001b[0mh5f\u001b[0m\u001b[0;34m.\u001b[0m\u001b[0mopen\u001b[0m\u001b[0;34m(\u001b[0m\u001b[0mname\u001b[0m\u001b[0;34m,\u001b[0m \u001b[0mflags\u001b[0m\u001b[0;34m,\u001b[0m \u001b[0mfapl\u001b[0m\u001b[0;34m=\u001b[0m\u001b[0mfapl\u001b[0m\u001b[0;34m)\u001b[0m\u001b[0;34m\u001b[0m\u001b[0;34m\u001b[0m\u001b[0m\n\u001b[0m\u001b[1;32m    174\u001b[0m     \u001b[0;32melif\u001b[0m \u001b[0mmode\u001b[0m \u001b[0;34m==\u001b[0m \u001b[0;34m'r+'\u001b[0m\u001b[0;34m:\u001b[0m\u001b[0;34m\u001b[0m\u001b[0;34m\u001b[0m\u001b[0m\n\u001b[1;32m    175\u001b[0m         \u001b[0mfid\u001b[0m \u001b[0;34m=\u001b[0m \u001b[0mh5f\u001b[0m\u001b[0;34m.\u001b[0m\u001b[0mopen\u001b[0m\u001b[0;34m(\u001b[0m\u001b[0mname\u001b[0m\u001b[0;34m,\u001b[0m \u001b[0mh5f\u001b[0m\u001b[0;34m.\u001b[0m\u001b[0mACC_RDWR\u001b[0m\u001b[0;34m,\u001b[0m \u001b[0mfapl\u001b[0m\u001b[0;34m=\u001b[0m\u001b[0mfapl\u001b[0m\u001b[0;34m)\u001b[0m\u001b[0;34m\u001b[0m\u001b[0;34m\u001b[0m\u001b[0m\n",
      "\u001b[0;32mh5py/_objects.pyx\u001b[0m in \u001b[0;36mh5py._objects.with_phil.wrapper\u001b[0;34m()\u001b[0m\n",
      "\u001b[0;32mh5py/_objects.pyx\u001b[0m in \u001b[0;36mh5py._objects.with_phil.wrapper\u001b[0;34m()\u001b[0m\n",
      "\u001b[0;32mh5py/h5f.pyx\u001b[0m in \u001b[0;36mh5py.h5f.open\u001b[0;34m()\u001b[0m\n",
      "\u001b[0;31mOSError\u001b[0m: Unable to open file (unable to open file: name = '/gpfs/exfel/data/user/grotec/2NIP_S2E/5keV_3fs_2NIP/diffr/diffr_Compton/diffr_Compton/diffr_out_0000002.h5', errno = 2, error message = 'No such file or directory', flags = 0, o_flags = 0)"
     ]
    }
   ],
   "source": [
    "for i,pattern_index in enumerate(pattern_indices):\n",
    "    with h5py.File(os.path.join(data_root_path, 'diffr_Compton/diffr_out_%07d.h5' % (pattern_index)) ,\"r\") as h5:\n",
    "        d = h5['data/diffr'].value\n",
    "        d = h5['data/data'].value\n",
    "\n",
    "    # mask beamstop\n",
    "    size = d.shape[0]\n",
    "    center = size//2\n",
    "    beamstop_width = 10\n",
    "    mask = numpy.ones_like(d)\n",
    "    mask[center-beamstop_width//2 : center+beamstop_width//2, center-beamstop_width//2 : center+beamstop_width//2] = 0.0\n",
    "\n",
    "    data[i] = d * mask"
   ]
  },
  {
   "cell_type": "code",
   "execution_count": null,
   "metadata": {},
   "outputs": [],
   "source": [
    "data_root_path = '/gpfs/exfel/data/user/grotec/2NIP_S2E/sim_5kev_30fs_35_2NIP_EMC_Compton/diffr/'\n",
    "file = os.path.join(data_root_path, 'diffr_out_%07d.h5' % (331))\n",
    "with h5py.File(file,\"r\") as h5:\n",
    "    print (file)\n",
    "    d = h5['data/diffr'].value\n",
    "    pyplot.figure(figsize=(10,10))\n",
    "    pyplot.imshow(d,norm=LogNorm(vmin=1e-5,vmax=1e-1) )\n",
    "    pyplot.colorbar()"
   ]
  },
  {
   "cell_type": "code",
   "execution_count": null,
   "metadata": {
    "scrolled": false
   },
   "outputs": [],
   "source": [
    "%matplotlib notebook\n",
    "pyplot.figure(figsize=(10,10))\n",
    "pyplot.imshow(data[2], norm=LogNorm())\n",
    "pyplot.colorbar()"
   ]
  },
  {
   "cell_type": "code",
   "execution_count": null,
   "metadata": {},
   "outputs": [],
   "source": [
    "for i,pattern_index in enumerate(pattern_indices):\n",
    "    with h5py.File(os.path.join(data_root_path, 'diffr_Compton/diffr_out_%07d.h5' % (pattern_index)) ,\"r\") as h5:\n",
    "#         d = h5['data/diffr'].value\n",
    "        d = h5['data/data'].value\n",
    "\n",
    "    # mask beamstop\n",
    "    size = d.shape[0]\n",
    "    center = size//2\n",
    "    beamstop_width = 10\n",
    "    mask = numpy.ones_like(d)\n",
    "    mask[center-beamstop_width//2 : center+beamstop_width//2, center-beamstop_width//2 : center+beamstop_width//2] = 0.0\n",
    "\n",
    "    data[i] = d * mask"
   ]
  },
  {
   "cell_type": "code",
   "execution_count": null,
   "metadata": {
    "scrolled": false
   },
   "outputs": [],
   "source": [
    "%matplotlib notebook\n",
    "pyplot.figure(figsize=(10,10))\n",
    "pyplot.imshow(data[3], norm=LogNorm(vmax=3))\n",
    "pyplot.colorbar()"
   ]
  },
  {
   "cell_type": "code",
   "execution_count": null,
   "metadata": {},
   "outputs": [],
   "source": [
    "pyplot.rcParams['figure.figsize'] = (20, 20)\n",
    "# imshow(data[0], cmap=cmap,vmin=0.0, vmax=3)\n",
    "pyplot.figure()\n",
    "imshow(data[0], cmap=cmap,vmin=0.0)\n",
    "# pyplot.xticks([])\n",
    "# pyplot.yticks([])\n",
    "pyplot.colorbar()"
   ]
  },
  {
   "cell_type": "code",
   "execution_count": null,
   "metadata": {},
   "outputs": [],
   "source": [
    "sparse_data = []\n",
    "for i,d in enumerate(data):\n",
    "    sp = []\n",
    "    for ix in range(d.shape[0]):\n",
    "        for iy in range(d.shape[1]):\n",
    "            if d[ix,iy] == 1:\n",
    "                sp.append([[ix,iy]])\n",
    "            \n",
    "\n",
    "    for ix in range(d.shape[0]):\n",
    "        for iy in range(d.shape[1]):\n",
    "            if d[ix,iy] > 1:\n",
    "                sp.append([[ix,iy],d[ix,iy]])\n",
    "    \n",
    "    sparse_data.append(sp)\n",
    "                "
   ]
  },
  {
   "cell_type": "code",
   "execution_count": null,
   "metadata": {
    "scrolled": true
   },
   "outputs": [],
   "source": [
    "print(\"\\n\"+repr(sparse_data[0]))"
   ]
  },
  {
   "cell_type": "code",
   "execution_count": null,
   "metadata": {},
   "outputs": [],
   "source": [
    "fileName = os.path.join(data_root_path, 'diffr_Compton/diffr_out_%07d.h5' % (55))\n",
    "f = h5py.File(fileName ,\"r\")\n",
    "list(f.items())"
   ]
  }
 ],
 "metadata": {
  "kernelspec": {
   "display_name": "Python 3",
   "language": "python",
   "name": "python3"
  },
  "language_info": {
   "codemirror_mode": {
    "name": "ipython",
    "version": 3
   },
   "file_extension": ".py",
   "mimetype": "text/x-python",
   "name": "python",
   "nbconvert_exporter": "python",
   "pygments_lexer": "ipython3",
   "version": "3.6.7"
  }
 },
 "nbformat": 4,
 "nbformat_minor": 2
}
